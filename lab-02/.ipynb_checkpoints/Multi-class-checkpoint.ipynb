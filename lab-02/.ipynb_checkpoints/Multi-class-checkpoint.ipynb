{
 "cells": [
  {
   "cell_type": "code",
   "execution_count": 14,
   "id": "f6697192-bf2e-4939-8794-79bdb74c526b",
   "metadata": {},
   "outputs": [],
   "source": [
    "import pandas as pd"
   ]
  },
  {
   "cell_type": "code",
   "execution_count": 15,
   "id": "a0e98b43-1dea-4ed4-a76d-c6cb11fec739",
   "metadata": {},
   "outputs": [
    {
     "name": "stdout",
     "output_type": "stream",
     "text": [
      "  species     island  bill_length_mm  bill_depth_mm  flipper_length_mm  \\\n",
      "0  Adelie  Torgersen            39.1           18.7              181.0   \n",
      "1  Adelie  Torgersen            39.5           17.4              186.0   \n",
      "2  Adelie  Torgersen            40.3           18.0              195.0   \n",
      "3  Adelie  Torgersen             NaN            NaN                NaN   \n",
      "4  Adelie  Torgersen            36.7           19.3              193.0   \n",
      "\n",
      "   body_mass_g     sex  \n",
      "0       3750.0    MALE  \n",
      "1       3800.0  FEMALE  \n",
      "2       3250.0  FEMALE  \n",
      "3          NaN     NaN  \n",
      "4       3450.0  FEMALE  \n"
     ]
    }
   ],
   "source": [
    "penguin_df = pd.read_csv('penguins.csv')\n",
    "print(penguin_df.head())"
   ]
  },
  {
   "cell_type": "code",
   "execution_count": 16,
   "id": "fd28ac72-05ea-4df4-b181-62eec8ef278d",
   "metadata": {},
   "outputs": [
    {
     "name": "stdout",
     "output_type": "stream",
     "text": [
      "344\n",
      "species               0\n",
      "island                0\n",
      "bill_length_mm        2\n",
      "bill_depth_mm         2\n",
      "flipper_length_mm     2\n",
      "body_mass_g           2\n",
      "sex                  11\n",
      "dtype: int64\n"
     ]
    }
   ],
   "source": [
    "print(penguin_df.shape[0])\n",
    "print(penguin_df.isna().sum())\n",
    "penguin_df.dropna(subset=['bill_length_mm', 'bill_depth_mm', 'flipper_length_mm', 'body_mass_g'], inplace=True)\n"
   ]
  },
  {
   "cell_type": "code",
   "execution_count": 17,
   "id": "b4e754ff-a5da-4d16-b026-5bf7e7a72924",
   "metadata": {},
   "outputs": [
    {
     "name": "stdout",
     "output_type": "stream",
     "text": [
      "species              0\n",
      "island               0\n",
      "bill_length_mm       0\n",
      "bill_depth_mm        0\n",
      "flipper_length_mm    0\n",
      "body_mass_g          0\n",
      "sex                  0\n",
      "dtype: int64\n"
     ]
    }
   ],
   "source": [
    "# Assuming penguin_df is your DataFrame containing the penguin data\n",
    "\n",
    "# Importing pandas library\n",
    "import pandas as pd\n",
    "\n",
    "# Calculate mode of 'sex' column\n",
    "mode_sex = penguin_df['sex'].mode()[0]\n",
    "\n",
    "# Fill NaN values in 'sex' column with the mode\n",
    "penguin_df['sex'] = penguin_df['sex'].fillna(mode_sex)\n",
    "print(penguin_df.isna().sum())\n"
   ]
  },
  {
   "cell_type": "code",
   "execution_count": 22,
   "id": "f0d6f23a-5fcd-4983-a5c0-4af7478051e4",
   "metadata": {},
   "outputs": [
    {
     "name": "stdout",
     "output_type": "stream",
     "text": [
      "   species  bill_length_mm  bill_depth_mm  flipper_length_mm  body_mass_g  \\\n",
      "0        0            39.1           18.7              181.0       3750.0   \n",
      "1        0            39.5           17.4              186.0       3800.0   \n",
      "2        0            40.3           18.0              195.0       3250.0   \n",
      "4        0            36.7           19.3              193.0       3450.0   \n",
      "5        0            39.3           20.6              190.0       3650.0   \n",
      "\n",
      "   island_Biscoe  island_Dream  island_Torgersen  sex_FEMALE  sex_MALE  \n",
      "0              0             0                 1           0         1  \n",
      "1              0             0                 1           1         0  \n",
      "2              0             0                 1           1         0  \n",
      "4              0             0                 1           1         0  \n",
      "5              0             0                 1           0         1  \n"
     ]
    }
   ],
   "source": [
    "from sklearn.preprocessing import LabelEncoder\n",
    "\n",
    "label_encoder = LabelEncoder()\n",
    "\n",
    "penguin_df['species'] = label_encoder.fit_transform(penguin_df.species)\n",
    "\n",
    "\n",
    "penguin_df = pd.get_dummies(penguin_df)\n",
    "penguin_df = penguin_df.replace({True:1, False:0})\n",
    "print(penguin_df.head())"
   ]
  },
  {
   "cell_type": "code",
   "execution_count": null,
   "id": "b753bd71-3f57-44dd-8bcf-7134be561692",
   "metadata": {},
   "outputs": [],
   "source": []
  }
 ],
 "metadata": {
  "kernelspec": {
   "display_name": "Python 3 (ipykernel)",
   "language": "python",
   "name": "python3"
  },
  "language_info": {
   "codemirror_mode": {
    "name": "ipython",
    "version": 3
   },
   "file_extension": ".py",
   "mimetype": "text/x-python",
   "name": "python",
   "nbconvert_exporter": "python",
   "pygments_lexer": "ipython3",
   "version": "3.11.5"
  }
 },
 "nbformat": 4,
 "nbformat_minor": 5
}
